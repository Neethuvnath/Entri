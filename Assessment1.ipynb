{
  "nbformat": 4,
  "nbformat_minor": 0,
  "metadata": {
    "colab": {
      "provenance": [],
      "authorship_tag": "ABX9TyNupgPZj9Mt/BgAwbv9+K2M",
      "include_colab_link": true
    },
    "kernelspec": {
      "name": "python3",
      "display_name": "Python 3"
    },
    "language_info": {
      "name": "python"
    }
  },
  "cells": [
    {
      "cell_type": "markdown",
      "metadata": {
        "id": "view-in-github",
        "colab_type": "text"
      },
      "source": [
        "<a href=\"https://colab.research.google.com/github/Neethuvnath/Entri/blob/main/Assessment1.ipynb\" target=\"_parent\"><img src=\"https://colab.research.google.com/assets/colab-badge.svg\" alt=\"Open In Colab\"/></a>"
      ]
    },
    {
      "cell_type": "code",
      "source": [],
      "metadata": {
        "id": "2355AtOYMkYi"
      },
      "execution_count": null,
      "outputs": []
    },
    {
      "cell_type": "code",
      "source": [
        "# Exercise 1\n",
        "print(\"Bob\")\n",
        "print(\"ST1001\")\n",
        "print(\"bob@gmail.com\")"
      ],
      "metadata": {
        "colab": {
          "base_uri": "https://localhost:8080/"
        },
        "id": "Wkiae-JUMAZ2",
        "outputId": "50eafb77-a913-406d-9660-007f8219d761"
      },
      "execution_count": null,
      "outputs": [
        {
          "output_type": "stream",
          "name": "stdout",
          "text": [
            "Bob\n",
            "ST1001\n",
            "bob@gmail.com\n"
          ]
        }
      ]
    },
    {
      "cell_type": "code",
      "source": [
        "# Exercise 2\n",
        "print(\"Bob\\nST1001\\nbob@gmail.com\")\n"
      ],
      "metadata": {
        "colab": {
          "base_uri": "https://localhost:8080/"
        },
        "id": "ZWYArhEYMoK2",
        "outputId": "207eb84e-b062-4294-ef0b-def92e8c1175"
      },
      "execution_count": null,
      "outputs": [
        {
          "output_type": "stream",
          "name": "stdout",
          "text": [
            "Bob\n",
            "ST1001\n",
            "bob@gmail.com\n"
          ]
        }
      ]
    },
    {
      "cell_type": "code",
      "source": [
        "# Exercise 3\n",
        "print(\"14+7=\",14+7)\n",
        "print(\"14-7=\",14-7)\n",
        "print(\"14*7=\",14*7)\n",
        "print(\"14/7=\",14/7)"
      ],
      "metadata": {
        "colab": {
          "base_uri": "https://localhost:8080/"
        },
        "id": "bee1IYdoMq-z",
        "outputId": "b8cbafe3-3426-42af-d72d-4592b3f2555c"
      },
      "execution_count": null,
      "outputs": [
        {
          "output_type": "stream",
          "name": "stdout",
          "text": [
            "14+7= 21\n",
            "14-7= 7\n",
            "14*7= 98\n",
            "14/7= 2.0\n"
          ]
        }
      ]
    },
    {
      "cell_type": "code",
      "source": [
        "# Excercise 4\n",
        "print(\"1\",\"2\",\"3\",\"4\",\"5\",sep=\"\\n\")"
      ],
      "metadata": {
        "colab": {
          "base_uri": "https://localhost:8080/"
        },
        "id": "P2KkwR0zPVEn",
        "outputId": "df29099e-cd73-41be-e164-510a13487020"
      },
      "execution_count": null,
      "outputs": [
        {
          "output_type": "stream",
          "name": "stdout",
          "text": [
            "1\n",
            "2\n",
            "3\n",
            "4\n",
            "5\n"
          ]
        }
      ]
    },
    {
      "cell_type": "code",
      "source": [
        "# Exercise 5\n",
        "print('\\\"SDK\\\" stands for \\\"Software Development Kit\\\", whereas\\n \\\"IDE\\\" stands for \\\"Integrated Development Environment\\\".')"
      ],
      "metadata": {
        "colab": {
          "base_uri": "https://localhost:8080/"
        },
        "id": "DBIjmsXEYwmN",
        "outputId": "e4281ece-8871-44c1-fb7a-96fea9a8fc68"
      },
      "execution_count": null,
      "outputs": [
        {
          "output_type": "stream",
          "name": "stdout",
          "text": [
            "\"SDK\" stands for \"Software Development Kit\", whereas\n",
            " \"IDE\" stands for \"Integrated Development Environment\".\n"
          ]
        }
      ]
    },
    {
      "cell_type": "code",
      "source": [
        "# Excercise 6\n",
        "print(\"python is an \\\"awesome\\\" language.\")\n",
        "print(\"python\\n\\t2023\")\n",
        "print('I\\'m from Entri.\\b')\n",
        "print(\"\\65\")\n",
        "print(\"\\x65\")\n",
        "print(\"Entri\", \"2023\", sep=\"\\n\")\n",
        "print(\"Entri\", \"2023\", sep=\"\\b\")\n",
        "print(\"Entri\", \"2023\", sep=\"*\", end=\"\\b\\b\\b\\b\")\n"
      ],
      "metadata": {
        "colab": {
          "base_uri": "https://localhost:8080/"
        },
        "id": "FcaZct5cawXn",
        "outputId": "8643ef14-ca65-46d3-bde3-a9ea392e95b9"
      },
      "execution_count": null,
      "outputs": [
        {
          "output_type": "stream",
          "name": "stdout",
          "text": [
            "python is an \"awesome\" language.\n",
            "python\n",
            "\t2023\n",
            "I'm from Entri.\b\n",
            "5\n",
            "e\n",
            "Entri\n",
            "2023\n",
            "Entri\b2023\n",
            "Entri*2023\b\b\b\b"
          ]
        }
      ]
    },
    {
      "cell_type": "code",
      "source": [
        "# Exercise 7\n",
        "num = 23\n",
        "textnum = \"57\"\n",
        "decimal = 98.3\n",
        "print(type(num))\n",
        "print(type(textnum))\n",
        "print(type(decimal))"
      ],
      "metadata": {
        "colab": {
          "base_uri": "https://localhost:8080/"
        },
        "id": "pdXkyqYoa3KO",
        "outputId": "36e1f199-da53-4b02-a0ca-38d5ffba422f"
      },
      "execution_count": null,
      "outputs": [
        {
          "output_type": "stream",
          "name": "stdout",
          "text": [
            "<class 'int'>\n",
            "<class 'str'>\n",
            "<class 'float'>\n"
          ]
        }
      ]
    },
    {
      "cell_type": "code",
      "source": [
        "num = 23\n",
        "textnum = \"57\"\n",
        "decimal = 98.3\n",
        "print(type(num))\n",
        "print(type(textnum))\n",
        "print(type(decimal))\n",
        "sum_result = num + int(textnum) + decimal\n",
        "print(\"Sum:\", sum_result)\n",
        "print(\"Type of sum:\", type(sum_result))"
      ],
      "metadata": {
        "colab": {
          "base_uri": "https://localhost:8080/"
        },
        "id": "F3DimKKrbgxc",
        "outputId": "e077072b-1ed0-4a24-c429-df756e2af153"
      },
      "execution_count": null,
      "outputs": [
        {
          "output_type": "stream",
          "name": "stdout",
          "text": [
            "<class 'int'>\n",
            "<class 'str'>\n",
            "<class 'float'>\n",
            "Sum: 178.3\n",
            "Type of sum: <class 'float'>\n"
          ]
        }
      ]
    },
    {
      "cell_type": "code",
      "source": [
        "# Exercise 8\n",
        "days_in_year = 365\n",
        "hours_in_day = 24\n",
        "minutes_in_hour = 60\n",
        "total_minutes = days_in_year * hours_in_day * minutes_in_hour\n",
        "print(\"The code calculates the total number of minutes in a year.\")\n",
        "print(\"Total minutes in a year:\", total_minutes)"
      ],
      "metadata": {
        "colab": {
          "base_uri": "https://localhost:8080/"
        },
        "id": "cqfMl4qkcf3P",
        "outputId": "ab72183e-58e0-43d8-8631-d34068b38ec8"
      },
      "execution_count": null,
      "outputs": [
        {
          "output_type": "stream",
          "name": "stdout",
          "text": [
            "The code calculates the total number of minutes in a year.\n",
            "Total minutes in a year: 525600\n"
          ]
        }
      ]
    },
    {
      "cell_type": "code",
      "source": [
        "# Exercise 9\n",
        "name = input(\"Please enter your name: \")\n",
        "print(f\"Hi {name}, welcome to Python programming :)\")"
      ],
      "metadata": {
        "colab": {
          "base_uri": "https://localhost:8080/"
        },
        "id": "FPWMzYiEdDbt",
        "outputId": "cbeabc20-e851-4e8b-8963-3ac254a82d35"
      },
      "execution_count": null,
      "outputs": [
        {
          "output_type": "stream",
          "name": "stdout",
          "text": [
            "Please enter your name: Tony\n",
            "Hi Tony, welcome to Python programming :)\n"
          ]
        }
      ]
    },
    {
      "cell_type": "code",
      "source": [
        "# Exercise 10 (PoundsToDollars.py)\n",
        "pounds = float(input(\"Please enter amount in pounds: \"))\n",
        "dollars = pounds * 1.38\n",
        "print(f\"£{pounds} are ${dollars:.2f}\")\n"
      ],
      "metadata": {
        "colab": {
          "base_uri": "https://localhost:8080/"
        },
        "id": "xEJOE1zCe1mz",
        "outputId": "082205f8-7122-49b5-8a8a-6f1c5a129674"
      },
      "execution_count": null,
      "outputs": [
        {
          "output_type": "stream",
          "name": "stdout",
          "text": [
            "Please enter amount in pounds: 100\n",
            "£100.0 are $138.00\n"
          ]
        }
      ]
    }
  ]
}